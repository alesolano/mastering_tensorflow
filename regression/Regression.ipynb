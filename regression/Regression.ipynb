{
 "cells": [
  {
   "cell_type": "code",
   "execution_count": 1,
   "metadata": {
    "collapsed": true
   },
   "outputs": [],
   "source": [
    "import tensorflow as tf\n",
    "import numpy as np"
   ]
  },
  {
   "cell_type": "code",
   "execution_count": 2,
   "metadata": {
    "collapsed": true
   },
   "outputs": [],
   "source": [
    "############ BUILDING THE GRAPH ############\n",
    "# Hyperparameters\n",
    "learning_rate = 0.01\n",
    "batch_size = 100\n",
    "\n",
    "# Model\n",
    "x = tf.placeholder(tf.int32, [None, 2])\n",
    "\n",
    "W = tf.Variable(tf.truncated_normal([2, 1], stddev=0.05))\n",
    "b = tf.Variable(tf.random_normal([1]))\n",
    "\n",
    "output = tf.add(tf.matmul(W, tf.cast(x, tf.float32)), b)\n",
    "# Fíjate que no hay funcion de activacion. Estamos en regresión.\n",
    "\n",
    "y = tf.placeholder(tf.int32, [None, 1])\n",
    "\n",
    "# Training\n",
    "cost = tf.reduce_mean(tf.nn.l2_loss(tf.cast(y, tf.float32)-output))\n",
    "optimizer = tf.train.GradientDescentOptimizer(learning_rate=learning_rate).minimize(cost)\n",
    "\n",
    "# Accuracy\n",
    "correct_pred = tf.equal(tf.cast(y, tf.float32), output)\n",
    "accuracy = tf.reduce_mean(tf.cast(correct_pred, tf.float32))\n",
    "\n",
    "\n",
    "############ DATA ############\n",
    "input1 = np.random.randint(10, size=10000)\n",
    "input2 = np.random.randint(10, size=10000)\n",
    "inputs = np.array([input1, input2])\n",
    "ground_truth = input1 + input2"
   ]
  },
  {
   "cell_type": "code",
   "execution_count": 3,
   "metadata": {
    "collapsed": false
   },
   "outputs": [
    {
     "data": {
      "text/plain": [
       "10000"
      ]
     },
     "execution_count": 3,
     "metadata": {},
     "output_type": "execute_result"
    }
   ],
   "source": [
    "inputs.shape[1]"
   ]
  },
  {
   "cell_type": "code",
   "execution_count": null,
   "metadata": {
    "collapsed": true
   },
   "outputs": [],
   "source": []
  }
 ],
 "metadata": {
  "kernelspec": {
   "display_name": "Python 3",
   "language": "python",
   "name": "python3"
  },
  "language_info": {
   "codemirror_mode": {
    "name": "ipython",
    "version": 3
   },
   "file_extension": ".py",
   "mimetype": "text/x-python",
   "name": "python",
   "nbconvert_exporter": "python",
   "pygments_lexer": "ipython3",
   "version": "3.5.3"
  }
 },
 "nbformat": 4,
 "nbformat_minor": 2
}
