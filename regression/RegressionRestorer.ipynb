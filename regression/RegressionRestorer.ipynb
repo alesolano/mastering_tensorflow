{
 "cells": [
  {
   "cell_type": "code",
   "execution_count": 1,
   "metadata": {
    "collapsed": false
   },
   "outputs": [],
   "source": [
    "import tensorflow as tf"
   ]
  },
  {
   "cell_type": "code",
   "execution_count": 2,
   "metadata": {
    "collapsed": true
   },
   "outputs": [],
   "source": [
    "import numpy as np"
   ]
  },
  {
   "cell_type": "markdown",
   "metadata": {},
   "source": [
    "## GRAPH"
   ]
  },
  {
   "cell_type": "markdown",
   "metadata": {},
   "source": [
    "In order to make predictions given an input, we need to run the last tensor of our model, usually called _logits_. These logits need to be _fed_ by our input through its corresponding placeholder. So, we should have access to these two tensors: the **logits** and the **input placeholder**. There are two options for solving this:\n",
    "1. Build all the entire graph including, obviously, these two tensors.\n",
    "2. Import the graph and extract the two tensors we need.\n",
    "\n",
    "The second option is the most practical: it will make the code smaller and, also and most importantly, will allow us to see a trained neural network as black box, where we only care about the input gate and the output tensor."
   ]
  },
  {
   "cell_type": "markdown",
   "metadata": {},
   "source": [
    "A `Saver` object generates three checkpoint files when we call the `save` method: `filename.ckpt.data`, `filename.ckpt.index` and `filename.ckpt.meta`. The last one stores the entire graph, including all the tensors, operations and variables; while the first one stores the trained values of the variables.\n",
    "\n",
    "We will import the graph through the meta file, extract the logits and input tensor and then, in the session, restore the variable values."
   ]
  },
  {
   "cell_type": "code",
   "execution_count": 3,
   "metadata": {
    "collapsed": true
   },
   "outputs": [],
   "source": [
    "tf.reset_default_graph() # reset the graph before importing it, so we don't import if more than once\n",
    "\n",
    "saver = tf.train.import_meta_graph('/tmp/regression_model.ckpt.meta')"
   ]
  },
  {
   "cell_type": "code",
   "execution_count": 4,
   "metadata": {
    "collapsed": false
   },
   "outputs": [],
   "source": [
    "logits = tf.get_default_graph().get_tensor_by_name('logits:0')"
   ]
  },
  {
   "cell_type": "code",
   "execution_count": 5,
   "metadata": {
    "collapsed": false
   },
   "outputs": [
    {
     "name": "stdout",
     "output_type": "stream",
     "text": [
      "The input placeholder is expecting an array of shape (?, 2) and type <dtype: 'float32'>\n"
     ]
    }
   ],
   "source": [
    "inputs = tf.get_default_graph().get_tensor_by_name('inputs:0')\n",
    "print('The input placeholder is expecting an array of shape {} and type {}'.format(inputs.shape, inputs.dtype))"
   ]
  },
  {
   "cell_type": "code",
   "execution_count": 7,
   "metadata": {
    "collapsed": true
   },
   "outputs": [],
   "source": [
    "# PRINT ALL TENSORS OF THE GRAPH.\n",
    "# This could be useful to localize the input placeholder and the logits\n",
    "\n",
    "#for tensor in tf.get_default_graph().as_graph_def().node:\n",
    "#    print(tensor.name)"
   ]
  },
  {
   "cell_type": "code",
   "execution_count": null,
   "metadata": {
    "collapsed": true
   },
   "outputs": [],
   "source": [
    "# PRINT ALL VARIABLES FROM A VARIABLE SCOPE.\n",
    "# This is interesting.\n",
    "\n",
    "#for variable in tf.get_collection(tf.GraphKeys.GLOBAL_VARIABLES, scope='first_layer'):\n",
    "#    print(variable.name)"
   ]
  },
  {
   "cell_type": "markdown",
   "metadata": {},
   "source": [
    "## SESSION"
   ]
  },
  {
   "cell_type": "code",
   "execution_count": 8,
   "metadata": {
    "collapsed": false
   },
   "outputs": [],
   "source": [
    "with tf.Session() as sess:\n",
    "    saver.restore(sess, '/tmp/regression_model.ckpt')\n",
    "    \n",
    "    pred = sess.run(logits, feed_dict={\n",
    "            inputs: np.array([[1000, 1000]])\n",
    "        })"
   ]
  },
  {
   "cell_type": "code",
   "execution_count": 10,
   "metadata": {
    "collapsed": false
   },
   "outputs": [
    {
     "name": "stdout",
     "output_type": "stream",
     "text": [
      "1929.16\n"
     ]
    }
   ],
   "source": [
    "print(pred[0][0])"
   ]
  }
 ],
 "metadata": {
  "anaconda-cloud": {},
  "kernelspec": {
   "display_name": "Python [conda env:tensorflow]",
   "language": "python",
   "name": "conda-env-tensorflow-py"
  },
  "language_info": {
   "codemirror_mode": {
    "name": "ipython",
    "version": 3
   },
   "file_extension": ".py",
   "mimetype": "text/x-python",
   "name": "python",
   "nbconvert_exporter": "python",
   "pygments_lexer": "ipython3",
   "version": "3.5.3"
  }
 },
 "nbformat": 4,
 "nbformat_minor": 1
}
