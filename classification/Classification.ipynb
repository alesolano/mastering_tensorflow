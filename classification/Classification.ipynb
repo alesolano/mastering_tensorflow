{
 "cells": [
  {
   "cell_type": "code",
   "execution_count": 1,
   "metadata": {
    "collapsed": true
   },
   "outputs": [],
   "source": [
    "import tensorflow as tf\n",
    "import numpy as np"
   ]
  },
  {
   "cell_type": "code",
   "execution_count": 2,
   "metadata": {
    "collapsed": true
   },
   "outputs": [],
   "source": [
    "from helper import get_data, split_data, get_batches"
   ]
  },
  {
   "cell_type": "code",
   "execution_count": 3,
   "metadata": {
    "collapsed": true
   },
   "outputs": [],
   "source": [
    "# MISSION:\n",
    "# Learn if the sum of two integers are higher than 10."
   ]
  },
  {
   "cell_type": "markdown",
   "metadata": {
    "collapsed": true
   },
   "source": [
    "## GRAPH"
   ]
  },
  {
   "cell_type": "code",
   "execution_count": 4,
   "metadata": {
    "collapsed": true
   },
   "outputs": [],
   "source": [
    "# HYPERPARAMTERS\n",
    "batch_size = 50\n",
    "epochs = 10"
   ]
  },
  {
   "cell_type": "code",
   "execution_count": 5,
   "metadata": {
    "collapsed": true
   },
   "outputs": [],
   "source": [
    "# MODEL\n",
    "x = tf.placeholder(tf.float32, [None, 2])"
   ]
  },
  {
   "cell_type": "code",
   "execution_count": 6,
   "metadata": {
    "collapsed": true
   },
   "outputs": [],
   "source": [
    "# Hidden layer:\n",
    "W_h = tf.Variable(tf.truncated_normal([2, 1], stddev=0.05))\n",
    "b_h = tf.Variable(tf.random_normal([1]))\n",
    "\n",
    "hidden = tf.add(tf.matmul(x, W_h), b_h)"
   ]
  },
  {
   "cell_type": "code",
   "execution_count": 7,
   "metadata": {
    "collapsed": true
   },
   "outputs": [],
   "source": [
    "W_o = tf.Variable(tf.truncated_normal([1, 2], stddev=0.05))\n",
    "b_o = tf.Variable(tf.random_normal([1]))\n",
    "\n",
    "logits = tf.add(tf.matmul(hidden, W_o), b_o)\n",
    "output = tf.nn.softmax(logits)"
   ]
  },
  {
   "cell_type": "code",
   "execution_count": 8,
   "metadata": {
    "collapsed": true
   },
   "outputs": [],
   "source": [
    "y = tf.placeholder(tf.float32, [None, 2])"
   ]
  },
  {
   "cell_type": "code",
   "execution_count": 9,
   "metadata": {
    "collapsed": true
   },
   "outputs": [],
   "source": [
    "# Training\n",
    "cost = tf.reduce_mean(tf.nn.softmax_cross_entropy_with_logits(logits=logits, labels=y))\n",
    "optimizer = tf.train.AdamOptimizer().minimize(cost)"
   ]
  },
  {
   "cell_type": "code",
   "execution_count": 10,
   "metadata": {
    "collapsed": true
   },
   "outputs": [],
   "source": [
    "# Accuracy\n",
    "correct_pred = tf.equal(tf.argmax(logits, axis=1), tf.argmax(y, axis=1))\n",
    "accuracy = tf.reduce_mean(tf.cast(correct_pred, tf.float32))"
   ]
  },
  {
   "cell_type": "markdown",
   "metadata": {
    "collapsed": true
   },
   "source": [
    "## DATA "
   ]
  },
  {
   "cell_type": "code",
   "execution_count": 11,
   "metadata": {
    "collapsed": true
   },
   "outputs": [],
   "source": [
    "# inputs: two integers\n",
    "# targets: [0, 1] if the sum is higher than 10. [1, 0] if the sum is lower than 10.\n",
    "\n",
    "inputs, targets = get_data(max_int=10, size=10000)"
   ]
  },
  {
   "cell_type": "code",
   "execution_count": 12,
   "metadata": {
    "collapsed": true
   },
   "outputs": [],
   "source": [
    "# preprocessing: normalize inputs to be between -1 and 1.\n",
    "inputs = (inputs-5)/5"
   ]
  },
  {
   "cell_type": "code",
   "execution_count": 13,
   "metadata": {
    "collapsed": true
   },
   "outputs": [],
   "source": [
    "# split train and test data\n",
    "train_inputs, test_inputs, train_targets, test_targets = split_data(inputs, targets)"
   ]
  },
  {
   "cell_type": "markdown",
   "metadata": {},
   "source": [
    "## SESSION"
   ]
  },
  {
   "cell_type": "code",
   "execution_count": 14,
   "metadata": {
    "collapsed": false
   },
   "outputs": [
    {
     "name": "stdout",
     "output_type": "stream",
     "text": [
      "Epoch  1, Batch   1 - Training Loss:     0.7004\n",
      "Epoch  2, Batch   1 - Training Loss:     0.6842\n",
      "Epoch  3, Batch   1 - Training Loss:     0.6375\n",
      "Epoch  4, Batch   1 - Training Loss:     0.5609\n",
      "Epoch  5, Batch   1 - Training Loss:     0.5397\n",
      "Epoch  6, Batch   1 - Training Loss:     0.3738\n",
      "Epoch  7, Batch   1 - Training Loss:     0.2551\n",
      "Epoch  8, Batch   1 - Training Loss:     0.2203\n",
      "Epoch  9, Batch   1 - Training Loss:     0.2034\n",
      "Epoch 10, Batch   1 - Training Loss:     0.1641\n",
      "\n",
      "Testing Accuracy: 1.0\n",
      "\n",
      "Final test (5 + 3), (7 + 6), (10 + 10):\n",
      "[[  8.93008471e-01   1.06991500e-01]\n",
      " [  1.24206737e-01   8.75793278e-01]\n",
      " [  4.71629581e-04   9.99528408e-01]]\n",
      "\n",
      "Hidden layer weights and bias:\n",
      "[[-1.64704931]\n",
      " [-1.64078069]]\n",
      "[ 0.19933932]\n",
      "Output layer weights and bias:\n",
      "[[ 1.21974468 -1.26005733]]\n",
      "[-0.2669307]\n"
     ]
    }
   ],
   "source": [
    "with tf.Session() as sess:\n",
    "    sess.run(tf.global_variables_initializer())\n",
    "\n",
    "    # TRAINING\n",
    "    for epoch in range(epochs):\n",
    "\n",
    "        batch_x, batch_y = get_batches(train_inputs, train_targets, batch_size)\n",
    "\n",
    "        for batch in range(train_inputs.shape[0]//batch_size):\n",
    "\n",
    "            sess.run(optimizer, feed_dict={\n",
    "                x: batch_x[batch],\n",
    "                y: batch_y[batch]\n",
    "                })\n",
    "\n",
    "            train_loss = sess.run(cost, feed_dict={\n",
    "                x: batch_x[batch],\n",
    "                y: batch_y[batch]\n",
    "                })\n",
    "\n",
    "            if batch == 0:\n",
    "                print('Epoch {:>2}, Batch {:3} - '\n",
    "                    'Training Loss: {:>10.4f}'.format(\n",
    "                        epoch + 1, \n",
    "                        batch + 1,\n",
    "                        train_loss))\n",
    "    \n",
    "    # TESTING\n",
    "    test_accuracy = sess.run(accuracy, feed_dict={\n",
    "        x: test_inputs,\n",
    "        y: test_targets\n",
    "        })\n",
    "    print('\\nTesting Accuracy: {}'.format(test_accuracy))\n",
    "\n",
    "\n",
    "    final_test = sess.run(output, feed_dict={\n",
    "        x: (np.array([[5, 3], [7, 6], [10, 10]])-5)/5\n",
    "        })\n",
    "    print('\\nFinal test (5 + 3), (7 + 6), (10 + 10):')\n",
    "    print(final_test)\n",
    "\n",
    "    print(\"\\nHidden layer weights and bias:\")\n",
    "    print(sess.run(W_h))\n",
    "    print(sess.run(b_h))\n",
    "    print(\"Output layer weights and bias:\")\n",
    "    print(sess.run(W_o))\n",
    "    print(sess.run(b_o))"
   ]
  },
  {
   "cell_type": "code",
   "execution_count": null,
   "metadata": {
    "collapsed": true
   },
   "outputs": [],
   "source": []
  }
 ],
 "metadata": {
  "anaconda-cloud": {},
  "kernelspec": {
   "display_name": "Python [conda env:tensorflow]",
   "language": "python",
   "name": "conda-env-tensorflow-py"
  },
  "language_info": {
   "codemirror_mode": {
    "name": "ipython",
    "version": 3
   },
   "file_extension": ".py",
   "mimetype": "text/x-python",
   "name": "python",
   "nbconvert_exporter": "python",
   "pygments_lexer": "ipython3",
   "version": "3.5.3"
  }
 },
 "nbformat": 4,
 "nbformat_minor": 1
}
